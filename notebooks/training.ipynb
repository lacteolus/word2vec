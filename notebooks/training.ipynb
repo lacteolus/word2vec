{
  "metadata": {
    "colab": {
      "provenance": []
    },
    "kernelspec": {
      "name": "python3",
      "display_name": "Python 3",
      "language": "python"
    },
    "language_info": {
      "name": "python",
      "version": "3.7.12",
      "mimetype": "text/x-python",
      "codemirror_mode": {
        "name": "ipython",
        "version": 3
      },
      "pygments_lexer": "ipython3",
      "nbconvert_exporter": "python",
      "file_extension": ".py"
    },
    "gpuClass": "standard",
    "widgets": {
      "application/vnd.jupyter.widget-state+json": {
        "a2ffd9bc2f6e42b993cecab183cdc60e": {
          "model_module": "@jupyter-widgets/controls",
          "model_name": "HBoxModel",
          "model_module_version": "1.5.0",
          "state": {
            "_dom_classes": [],
            "_model_module": "@jupyter-widgets/controls",
            "_model_module_version": "1.5.0",
            "_model_name": "HBoxModel",
            "_view_count": null,
            "_view_module": "@jupyter-widgets/controls",
            "_view_module_version": "1.5.0",
            "_view_name": "HBoxView",
            "box_style": "",
            "children": [
              "IPY_MODEL_d3d302eb70264716a2e80cc94e2a50b0",
              "IPY_MODEL_34229f8dc4f84761816e96b25eb80797",
              "IPY_MODEL_36fca84767324b96b3c2f5662aa39844"
            ],
            "layout": "IPY_MODEL_6cb0dbcf609f41068511e4ab96f545c0"
          }
        },
        "d3d302eb70264716a2e80cc94e2a50b0": {
          "model_module": "@jupyter-widgets/controls",
          "model_name": "HTMLModel",
          "model_module_version": "1.5.0",
          "state": {
            "_dom_classes": [],
            "_model_module": "@jupyter-widgets/controls",
            "_model_module_version": "1.5.0",
            "_model_name": "HTMLModel",
            "_view_count": null,
            "_view_module": "@jupyter-widgets/controls",
            "_view_module_version": "1.5.0",
            "_view_name": "HTMLView",
            "description": "",
            "description_tooltip": null,
            "layout": "IPY_MODEL_52b09af3083643699645445e2c5821ca",
            "placeholder": "​",
            "style": "IPY_MODEL_01dc39a3464e4d749f2a7bf7992bba66",
            "value": "100%"
          }
        },
        "34229f8dc4f84761816e96b25eb80797": {
          "model_module": "@jupyter-widgets/controls",
          "model_name": "FloatProgressModel",
          "model_module_version": "1.5.0",
          "state": {
            "_dom_classes": [],
            "_model_module": "@jupyter-widgets/controls",
            "_model_module_version": "1.5.0",
            "_model_name": "FloatProgressModel",
            "_view_count": null,
            "_view_module": "@jupyter-widgets/controls",
            "_view_module_version": "1.5.0",
            "_view_name": "ProgressView",
            "bar_style": "success",
            "description": "",
            "description_tooltip": null,
            "layout": "IPY_MODEL_491dd4c2998a446bb840a4f00b1d1f38",
            "max": 12375405,
            "min": 0,
            "orientation": "horizontal",
            "style": "IPY_MODEL_869b2d5bf687435e96f38577736c0902",
            "value": 12375405
          }
        },
        "36fca84767324b96b3c2f5662aa39844": {
          "model_module": "@jupyter-widgets/controls",
          "model_name": "HTMLModel",
          "model_module_version": "1.5.0",
          "state": {
            "_dom_classes": [],
            "_model_module": "@jupyter-widgets/controls",
            "_model_module_version": "1.5.0",
            "_model_name": "HTMLModel",
            "_view_count": null,
            "_view_module": "@jupyter-widgets/controls",
            "_view_module_version": "1.5.0",
            "_view_name": "HTMLView",
            "description": "",
            "description_tooltip": null,
            "layout": "IPY_MODEL_72d3702896694f518948bf0e32bca314",
            "placeholder": "​",
            "style": "IPY_MODEL_21066985624b44b0a4a8c040aad7863b",
            "value": " 12375405/12375405 [07:59&lt;00:00, 32111.49it/s]"
          }
        },
        "6cb0dbcf609f41068511e4ab96f545c0": {
          "model_module": "@jupyter-widgets/base",
          "model_name": "LayoutModel",
          "model_module_version": "1.2.0",
          "state": {
            "_model_module": "@jupyter-widgets/base",
            "_model_module_version": "1.2.0",
            "_model_name": "LayoutModel",
            "_view_count": null,
            "_view_module": "@jupyter-widgets/base",
            "_view_module_version": "1.2.0",
            "_view_name": "LayoutView",
            "align_content": null,
            "align_items": null,
            "align_self": null,
            "border": null,
            "bottom": null,
            "display": null,
            "flex": null,
            "flex_flow": null,
            "grid_area": null,
            "grid_auto_columns": null,
            "grid_auto_flow": null,
            "grid_auto_rows": null,
            "grid_column": null,
            "grid_gap": null,
            "grid_row": null,
            "grid_template_areas": null,
            "grid_template_columns": null,
            "grid_template_rows": null,
            "height": null,
            "justify_content": null,
            "justify_items": null,
            "left": null,
            "margin": null,
            "max_height": null,
            "max_width": null,
            "min_height": null,
            "min_width": null,
            "object_fit": null,
            "object_position": null,
            "order": null,
            "overflow": null,
            "overflow_x": null,
            "overflow_y": null,
            "padding": null,
            "right": null,
            "top": null,
            "visibility": null,
            "width": null
          }
        },
        "52b09af3083643699645445e2c5821ca": {
          "model_module": "@jupyter-widgets/base",
          "model_name": "LayoutModel",
          "model_module_version": "1.2.0",
          "state": {
            "_model_module": "@jupyter-widgets/base",
            "_model_module_version": "1.2.0",
            "_model_name": "LayoutModel",
            "_view_count": null,
            "_view_module": "@jupyter-widgets/base",
            "_view_module_version": "1.2.0",
            "_view_name": "LayoutView",
            "align_content": null,
            "align_items": null,
            "align_self": null,
            "border": null,
            "bottom": null,
            "display": null,
            "flex": null,
            "flex_flow": null,
            "grid_area": null,
            "grid_auto_columns": null,
            "grid_auto_flow": null,
            "grid_auto_rows": null,
            "grid_column": null,
            "grid_gap": null,
            "grid_row": null,
            "grid_template_areas": null,
            "grid_template_columns": null,
            "grid_template_rows": null,
            "height": null,
            "justify_content": null,
            "justify_items": null,
            "left": null,
            "margin": null,
            "max_height": null,
            "max_width": null,
            "min_height": null,
            "min_width": null,
            "object_fit": null,
            "object_position": null,
            "order": null,
            "overflow": null,
            "overflow_x": null,
            "overflow_y": null,
            "padding": null,
            "right": null,
            "top": null,
            "visibility": null,
            "width": null
          }
        },
        "01dc39a3464e4d749f2a7bf7992bba66": {
          "model_module": "@jupyter-widgets/controls",
          "model_name": "DescriptionStyleModel",
          "model_module_version": "1.5.0",
          "state": {
            "_model_module": "@jupyter-widgets/controls",
            "_model_module_version": "1.5.0",
            "_model_name": "DescriptionStyleModel",
            "_view_count": null,
            "_view_module": "@jupyter-widgets/base",
            "_view_module_version": "1.2.0",
            "_view_name": "StyleView",
            "description_width": ""
          }
        },
        "491dd4c2998a446bb840a4f00b1d1f38": {
          "model_module": "@jupyter-widgets/base",
          "model_name": "LayoutModel",
          "model_module_version": "1.2.0",
          "state": {
            "_model_module": "@jupyter-widgets/base",
            "_model_module_version": "1.2.0",
            "_model_name": "LayoutModel",
            "_view_count": null,
            "_view_module": "@jupyter-widgets/base",
            "_view_module_version": "1.2.0",
            "_view_name": "LayoutView",
            "align_content": null,
            "align_items": null,
            "align_self": null,
            "border": null,
            "bottom": null,
            "display": null,
            "flex": null,
            "flex_flow": null,
            "grid_area": null,
            "grid_auto_columns": null,
            "grid_auto_flow": null,
            "grid_auto_rows": null,
            "grid_column": null,
            "grid_gap": null,
            "grid_row": null,
            "grid_template_areas": null,
            "grid_template_columns": null,
            "grid_template_rows": null,
            "height": null,
            "justify_content": null,
            "justify_items": null,
            "left": null,
            "margin": null,
            "max_height": null,
            "max_width": null,
            "min_height": null,
            "min_width": null,
            "object_fit": null,
            "object_position": null,
            "order": null,
            "overflow": null,
            "overflow_x": null,
            "overflow_y": null,
            "padding": null,
            "right": null,
            "top": null,
            "visibility": null,
            "width": null
          }
        },
        "869b2d5bf687435e96f38577736c0902": {
          "model_module": "@jupyter-widgets/controls",
          "model_name": "ProgressStyleModel",
          "model_module_version": "1.5.0",
          "state": {
            "_model_module": "@jupyter-widgets/controls",
            "_model_module_version": "1.5.0",
            "_model_name": "ProgressStyleModel",
            "_view_count": null,
            "_view_module": "@jupyter-widgets/base",
            "_view_module_version": "1.2.0",
            "_view_name": "StyleView",
            "bar_color": null,
            "description_width": ""
          }
        },
        "72d3702896694f518948bf0e32bca314": {
          "model_module": "@jupyter-widgets/base",
          "model_name": "LayoutModel",
          "model_module_version": "1.2.0",
          "state": {
            "_model_module": "@jupyter-widgets/base",
            "_model_module_version": "1.2.0",
            "_model_name": "LayoutModel",
            "_view_count": null,
            "_view_module": "@jupyter-widgets/base",
            "_view_module_version": "1.2.0",
            "_view_name": "LayoutView",
            "align_content": null,
            "align_items": null,
            "align_self": null,
            "border": null,
            "bottom": null,
            "display": null,
            "flex": null,
            "flex_flow": null,
            "grid_area": null,
            "grid_auto_columns": null,
            "grid_auto_flow": null,
            "grid_auto_rows": null,
            "grid_column": null,
            "grid_gap": null,
            "grid_row": null,
            "grid_template_areas": null,
            "grid_template_columns": null,
            "grid_template_rows": null,
            "height": null,
            "justify_content": null,
            "justify_items": null,
            "left": null,
            "margin": null,
            "max_height": null,
            "max_width": null,
            "min_height": null,
            "min_width": null,
            "object_fit": null,
            "object_position": null,
            "order": null,
            "overflow": null,
            "overflow_x": null,
            "overflow_y": null,
            "padding": null,
            "right": null,
            "top": null,
            "visibility": null,
            "width": null
          }
        },
        "21066985624b44b0a4a8c040aad7863b": {
          "model_module": "@jupyter-widgets/controls",
          "model_name": "DescriptionStyleModel",
          "model_module_version": "1.5.0",
          "state": {
            "_model_module": "@jupyter-widgets/controls",
            "_model_module_version": "1.5.0",
            "_model_name": "DescriptionStyleModel",
            "_view_count": null,
            "_view_module": "@jupyter-widgets/base",
            "_view_module_version": "1.2.0",
            "_view_name": "StyleView",
            "description_width": ""
          }
        },
        "ea8e51f756e1418a90acc9ea6b62cf42": {
          "model_module": "@jupyter-widgets/controls",
          "model_name": "HBoxModel",
          "model_module_version": "1.5.0",
          "state": {
            "_dom_classes": [],
            "_model_module": "@jupyter-widgets/controls",
            "_model_module_version": "1.5.0",
            "_model_name": "HBoxModel",
            "_view_count": null,
            "_view_module": "@jupyter-widgets/controls",
            "_view_module_version": "1.5.0",
            "_view_name": "HBoxView",
            "box_style": "",
            "children": [
              "IPY_MODEL_0d77256bd4474bc69fe0cbd536d75164",
              "IPY_MODEL_785cb55699744aa68a88e9d05ae41e33",
              "IPY_MODEL_aabd7b74678c4ddd8cf9e45fad3943c8"
            ],
            "layout": "IPY_MODEL_939654f595e64e39bf42663460870d06"
          }
        },
        "0d77256bd4474bc69fe0cbd536d75164": {
          "model_module": "@jupyter-widgets/controls",
          "model_name": "HTMLModel",
          "model_module_version": "1.5.0",
          "state": {
            "_dom_classes": [],
            "_model_module": "@jupyter-widgets/controls",
            "_model_module_version": "1.5.0",
            "_model_name": "HTMLModel",
            "_view_count": null,
            "_view_module": "@jupyter-widgets/controls",
            "_view_module_version": "1.5.0",
            "_view_name": "HTMLView",
            "description": "",
            "description_tooltip": null,
            "layout": "IPY_MODEL_7f1f4134027b4986826a1ff22730ca6d",
            "placeholder": "​",
            "style": "IPY_MODEL_3a7d09c2fbe84cfbbad0a4ad87a02aeb",
            "value": "Epoch: 1/5 - Train. Loss: 6.314:  15%"
          }
        },
        "785cb55699744aa68a88e9d05ae41e33": {
          "model_module": "@jupyter-widgets/controls",
          "model_name": "FloatProgressModel",
          "model_module_version": "1.5.0",
          "state": {
            "_dom_classes": [],
            "_model_module": "@jupyter-widgets/controls",
            "_model_module_version": "1.5.0",
            "_model_name": "FloatProgressModel",
            "_view_count": null,
            "_view_module": "@jupyter-widgets/controls",
            "_view_module_version": "1.5.0",
            "_view_name": "ProgressView",
            "bar_style": "",
            "description": "",
            "description_tooltip": null,
            "layout": "IPY_MODEL_ba26e3279cf34770bebf4a4d206d306e",
            "max": 12376,
            "min": 0,
            "orientation": "horizontal",
            "style": "IPY_MODEL_8688728dafd1445398dd8c39f6153090",
            "value": 1807
          }
        },
        "aabd7b74678c4ddd8cf9e45fad3943c8": {
          "model_module": "@jupyter-widgets/controls",
          "model_name": "HTMLModel",
          "model_module_version": "1.5.0",
          "state": {
            "_dom_classes": [],
            "_model_module": "@jupyter-widgets/controls",
            "_model_module_version": "1.5.0",
            "_model_name": "HTMLModel",
            "_view_count": null,
            "_view_module": "@jupyter-widgets/controls",
            "_view_module_version": "1.5.0",
            "_view_name": "HTMLView",
            "description": "",
            "description_tooltip": null,
            "layout": "IPY_MODEL_5be47cf1755f4502ae9c540867b6c7e8",
            "placeholder": "​",
            "style": "IPY_MODEL_f5432991a85748778359c7d90177378f",
            "value": " 1807/12376 [03:08&lt;14:51, 11.86it/s]"
          }
        },
        "939654f595e64e39bf42663460870d06": {
          "model_module": "@jupyter-widgets/base",
          "model_name": "LayoutModel",
          "model_module_version": "1.2.0",
          "state": {
            "_model_module": "@jupyter-widgets/base",
            "_model_module_version": "1.2.0",
            "_model_name": "LayoutModel",
            "_view_count": null,
            "_view_module": "@jupyter-widgets/base",
            "_view_module_version": "1.2.0",
            "_view_name": "LayoutView",
            "align_content": null,
            "align_items": null,
            "align_self": null,
            "border": null,
            "bottom": null,
            "display": null,
            "flex": null,
            "flex_flow": null,
            "grid_area": null,
            "grid_auto_columns": null,
            "grid_auto_flow": null,
            "grid_auto_rows": null,
            "grid_column": null,
            "grid_gap": null,
            "grid_row": null,
            "grid_template_areas": null,
            "grid_template_columns": null,
            "grid_template_rows": null,
            "height": null,
            "justify_content": null,
            "justify_items": null,
            "left": null,
            "margin": null,
            "max_height": null,
            "max_width": null,
            "min_height": null,
            "min_width": null,
            "object_fit": null,
            "object_position": null,
            "order": null,
            "overflow": null,
            "overflow_x": null,
            "overflow_y": null,
            "padding": null,
            "right": null,
            "top": null,
            "visibility": null,
            "width": null
          }
        },
        "7f1f4134027b4986826a1ff22730ca6d": {
          "model_module": "@jupyter-widgets/base",
          "model_name": "LayoutModel",
          "model_module_version": "1.2.0",
          "state": {
            "_model_module": "@jupyter-widgets/base",
            "_model_module_version": "1.2.0",
            "_model_name": "LayoutModel",
            "_view_count": null,
            "_view_module": "@jupyter-widgets/base",
            "_view_module_version": "1.2.0",
            "_view_name": "LayoutView",
            "align_content": null,
            "align_items": null,
            "align_self": null,
            "border": null,
            "bottom": null,
            "display": null,
            "flex": null,
            "flex_flow": null,
            "grid_area": null,
            "grid_auto_columns": null,
            "grid_auto_flow": null,
            "grid_auto_rows": null,
            "grid_column": null,
            "grid_gap": null,
            "grid_row": null,
            "grid_template_areas": null,
            "grid_template_columns": null,
            "grid_template_rows": null,
            "height": null,
            "justify_content": null,
            "justify_items": null,
            "left": null,
            "margin": null,
            "max_height": null,
            "max_width": null,
            "min_height": null,
            "min_width": null,
            "object_fit": null,
            "object_position": null,
            "order": null,
            "overflow": null,
            "overflow_x": null,
            "overflow_y": null,
            "padding": null,
            "right": null,
            "top": null,
            "visibility": null,
            "width": null
          }
        },
        "3a7d09c2fbe84cfbbad0a4ad87a02aeb": {
          "model_module": "@jupyter-widgets/controls",
          "model_name": "DescriptionStyleModel",
          "model_module_version": "1.5.0",
          "state": {
            "_model_module": "@jupyter-widgets/controls",
            "_model_module_version": "1.5.0",
            "_model_name": "DescriptionStyleModel",
            "_view_count": null,
            "_view_module": "@jupyter-widgets/base",
            "_view_module_version": "1.2.0",
            "_view_name": "StyleView",
            "description_width": ""
          }
        },
        "ba26e3279cf34770bebf4a4d206d306e": {
          "model_module": "@jupyter-widgets/base",
          "model_name": "LayoutModel",
          "model_module_version": "1.2.0",
          "state": {
            "_model_module": "@jupyter-widgets/base",
            "_model_module_version": "1.2.0",
            "_model_name": "LayoutModel",
            "_view_count": null,
            "_view_module": "@jupyter-widgets/base",
            "_view_module_version": "1.2.0",
            "_view_name": "LayoutView",
            "align_content": null,
            "align_items": null,
            "align_self": null,
            "border": null,
            "bottom": null,
            "display": null,
            "flex": null,
            "flex_flow": null,
            "grid_area": null,
            "grid_auto_columns": null,
            "grid_auto_flow": null,
            "grid_auto_rows": null,
            "grid_column": null,
            "grid_gap": null,
            "grid_row": null,
            "grid_template_areas": null,
            "grid_template_columns": null,
            "grid_template_rows": null,
            "height": null,
            "justify_content": null,
            "justify_items": null,
            "left": null,
            "margin": null,
            "max_height": null,
            "max_width": null,
            "min_height": null,
            "min_width": null,
            "object_fit": null,
            "object_position": null,
            "order": null,
            "overflow": null,
            "overflow_x": null,
            "overflow_y": null,
            "padding": null,
            "right": null,
            "top": null,
            "visibility": null,
            "width": null
          }
        },
        "8688728dafd1445398dd8c39f6153090": {
          "model_module": "@jupyter-widgets/controls",
          "model_name": "ProgressStyleModel",
          "model_module_version": "1.5.0",
          "state": {
            "_model_module": "@jupyter-widgets/controls",
            "_model_module_version": "1.5.0",
            "_model_name": "ProgressStyleModel",
            "_view_count": null,
            "_view_module": "@jupyter-widgets/base",
            "_view_module_version": "1.2.0",
            "_view_name": "StyleView",
            "bar_color": null,
            "description_width": ""
          }
        },
        "5be47cf1755f4502ae9c540867b6c7e8": {
          "model_module": "@jupyter-widgets/base",
          "model_name": "LayoutModel",
          "model_module_version": "1.2.0",
          "state": {
            "_model_module": "@jupyter-widgets/base",
            "_model_module_version": "1.2.0",
            "_model_name": "LayoutModel",
            "_view_count": null,
            "_view_module": "@jupyter-widgets/base",
            "_view_module_version": "1.2.0",
            "_view_name": "LayoutView",
            "align_content": null,
            "align_items": null,
            "align_self": null,
            "border": null,
            "bottom": null,
            "display": null,
            "flex": null,
            "flex_flow": null,
            "grid_area": null,
            "grid_auto_columns": null,
            "grid_auto_flow": null,
            "grid_auto_rows": null,
            "grid_column": null,
            "grid_gap": null,
            "grid_row": null,
            "grid_template_areas": null,
            "grid_template_columns": null,
            "grid_template_rows": null,
            "height": null,
            "justify_content": null,
            "justify_items": null,
            "left": null,
            "margin": null,
            "max_height": null,
            "max_width": null,
            "min_height": null,
            "min_width": null,
            "object_fit": null,
            "object_position": null,
            "order": null,
            "overflow": null,
            "overflow_x": null,
            "overflow_y": null,
            "padding": null,
            "right": null,
            "top": null,
            "visibility": null,
            "width": null
          }
        },
        "f5432991a85748778359c7d90177378f": {
          "model_module": "@jupyter-widgets/controls",
          "model_name": "DescriptionStyleModel",
          "model_module_version": "1.5.0",
          "state": {
            "_model_module": "@jupyter-widgets/controls",
            "_model_module_version": "1.5.0",
            "_model_name": "DescriptionStyleModel",
            "_view_count": null,
            "_view_module": "@jupyter-widgets/base",
            "_view_module_version": "1.2.0",
            "_view_name": "StyleView",
            "description_width": ""
          }
        }
      }
    }
  },
  "nbformat_minor": 0,
  "nbformat": 4,
  "cells": [
    {
      "cell_type": "markdown",
      "source": [
        "# Clone repository\n",
        "\n",
        "1. Clone repository from Gitlab. Repository URL - {GIT_PATH}\n",
        "2. Repository is cloned into {LOCAL_PATH} directory\n",
        "3. Branch {BRANCH} is used"
      ],
      "metadata": {
        "id": "SWj6mKowylMV"
      }
    },
    {
      "cell_type": "code",
      "source": [
        "GIT_PATH = \"https://github.com/lacteolus/word2vec.git\"\n",
        "LOCAL_PATH = \"word2vec\"\n",
        "BRANCH = \"main\""
      ],
      "metadata": {
        "id": "R8H-FAJrrLTG",
        "execution": {
          "iopub.status.busy": "2023-04-25T06:25:47.892215Z",
          "iopub.execute_input": "2023-04-25T06:25:47.892636Z",
          "iopub.status.idle": "2023-04-25T06:25:47.898589Z",
          "shell.execute_reply.started": "2023-04-25T06:25:47.892597Z",
          "shell.execute_reply": "2023-04-25T06:25:47.897503Z"
        },
        "trusted": true
      },
      "execution_count": 4,
      "outputs": []
    },
    {
      "cell_type": "code",
      "source": [
        "import os"
      ],
      "metadata": {
        "id": "E4vDlD5MQuWy",
        "execution": {
          "iopub.status.busy": "2023-04-25T06:25:50.463431Z",
          "iopub.execute_input": "2023-04-25T06:25:50.463802Z",
          "iopub.status.idle": "2023-04-25T06:25:50.468462Z",
          "shell.execute_reply.started": "2023-04-25T06:25:50.463770Z",
          "shell.execute_reply": "2023-04-25T06:25:50.467353Z"
        },
        "trusted": true
      },
      "execution_count": 5,
      "outputs": []
    },
    {
      "cell_type": "code",
      "source": [
        "cmd_string = f'git clone {GIT_PATH} {LOCAL_PATH}'\n",
        "os.system(cmd_string)"
      ],
      "metadata": {
        "colab": {
          "base_uri": "https://localhost:8080/"
        },
        "id": "CwX3R0K6rrZ-",
        "outputId": "45d60348-a680-4385-e42e-c1ed4c370dd0",
        "execution": {
          "iopub.status.busy": "2023-04-25T06:25:52.628474Z",
          "iopub.execute_input": "2023-04-25T06:25:52.629474Z",
          "iopub.status.idle": "2023-04-25T06:25:55.510242Z",
          "shell.execute_reply.started": "2023-04-25T06:25:52.629425Z",
          "shell.execute_reply": "2023-04-25T06:25:55.509251Z"
        },
        "trusted": true
      },
      "execution_count": 6,
      "outputs": [
        {
          "output_type": "execute_result",
          "data": {
            "text/plain": [
              "0"
            ]
          },
          "metadata": {},
          "execution_count": 6
        }
      ]
    },
    {
      "cell_type": "code",
      "source": [
        "!ls"
      ],
      "metadata": {
        "execution": {
          "iopub.status.busy": "2023-04-25T06:25:58.289460Z",
          "iopub.execute_input": "2023-04-25T06:25:58.289958Z",
          "iopub.status.idle": "2023-04-25T06:25:59.242647Z",
          "shell.execute_reply.started": "2023-04-25T06:25:58.289913Z",
          "shell.execute_reply": "2023-04-25T06:25:59.241168Z"
        },
        "trusted": true,
        "id": "3LvOWH7oqskC",
        "outputId": "7a408bf2-6c86-439c-d60c-cfe6babeb752",
        "colab": {
          "base_uri": "https://localhost:8080/"
        }
      },
      "execution_count": 7,
      "outputs": [
        {
          "output_type": "stream",
          "name": "stdout",
          "text": [
            "sample_data  word2vec\n"
          ]
        }
      ]
    },
    {
      "cell_type": "code",
      "source": [
        "%cd {LOCAL_PATH}"
      ],
      "metadata": {
        "colab": {
          "base_uri": "https://localhost:8080/"
        },
        "id": "UjDpzuo9wzt6",
        "outputId": "b5e2c57f-c7c5-4072-f0a8-c0ad425eabac",
        "execution": {
          "iopub.status.busy": "2023-04-25T06:26:06.275979Z",
          "iopub.execute_input": "2023-04-25T06:26:06.276409Z",
          "iopub.status.idle": "2023-04-25T06:26:06.285531Z",
          "shell.execute_reply.started": "2023-04-25T06:26:06.276369Z",
          "shell.execute_reply": "2023-04-25T06:26:06.284223Z"
        },
        "trusted": true
      },
      "execution_count": 8,
      "outputs": [
        {
          "output_type": "stream",
          "name": "stdout",
          "text": [
            "/content/word2vec\n"
          ]
        }
      ]
    },
    {
      "cell_type": "code",
      "source": [
        "!git checkout {BRANCH}"
      ],
      "metadata": {
        "colab": {
          "base_uri": "https://localhost:8080/"
        },
        "id": "rNmGAwhUxih3",
        "outputId": "5931245b-0533-420f-e5eb-db8cf6091808",
        "execution": {
          "iopub.status.busy": "2023-04-25T06:26:10.402524Z",
          "iopub.execute_input": "2023-04-25T06:26:10.403203Z",
          "iopub.status.idle": "2023-04-25T06:26:11.969935Z",
          "shell.execute_reply.started": "2023-04-25T06:26:10.403143Z",
          "shell.execute_reply": "2023-04-25T06:26:11.968762Z"
        },
        "trusted": true
      },
      "execution_count": 9,
      "outputs": [
        {
          "output_type": "stream",
          "name": "stdout",
          "text": [
            "Already on 'main'\n",
            "Your branch is up to date with 'origin/main'.\n"
          ]
        }
      ]
    },
    {
      "cell_type": "code",
      "source": [
        "! git pull"
      ],
      "metadata": {
        "colab": {
          "base_uri": "https://localhost:8080/"
        },
        "id": "M8SmKaZMz3QT",
        "outputId": "1bc021a1-96c5-4e91-9c31-7691e3678169",
        "execution": {
          "iopub.status.busy": "2023-04-25T06:26:14.263586Z",
          "iopub.execute_input": "2023-04-25T06:26:14.264704Z",
          "iopub.status.idle": "2023-04-25T06:26:16.723576Z",
          "shell.execute_reply.started": "2023-04-25T06:26:14.264649Z",
          "shell.execute_reply": "2023-04-25T06:26:16.722414Z"
        },
        "trusted": true
      },
      "execution_count": 10,
      "outputs": [
        {
          "output_type": "stream",
          "name": "stdout",
          "text": [
            "Already up to date.\n"
          ]
        }
      ]
    },
    {
      "cell_type": "markdown",
      "source": [
        "# Train model"
      ],
      "metadata": {
        "id": "N7wkYn0dy4gt"
      }
    },
    {
      "cell_type": "code",
      "source": [
        "import os\n",
        "import torch\n",
        "import torch.nn as nn\n",
        "import numpy as np\n",
        "from collections import Counter\n",
        "from src.helpers import tokenize\n",
        "from src.dataloader import get_dataloader\n",
        "from src.custom_word2vec import CBOWModel, SkipGramModel\n",
        "from src.vocab import Vocab\n",
        "from src.trainer import Trainer\n",
        "from src.metric_monitor import MetricMonitor"
      ],
      "metadata": {
        "id": "PQb_vzA9ykI-",
        "execution": {
          "iopub.status.busy": "2023-04-25T06:26:20.003767Z",
          "iopub.execute_input": "2023-04-25T06:26:20.005162Z",
          "iopub.status.idle": "2023-04-25T06:26:22.740724Z",
          "shell.execute_reply.started": "2023-04-25T06:26:20.005113Z",
          "shell.execute_reply": "2023-04-25T06:26:22.739715Z"
        },
        "trusted": true
      },
      "execution_count": null,
      "outputs": []
    },
    {
      "cell_type": "code",
      "source": [
        "# CAN BE MODIFIED IF NEEDED\n",
        "# Max vocabulary size\n",
        "MAX_VOCAB_SIZE = 5000\n",
        "\n",
        "# Number of epochs\n",
        "EPOCHS = 5\n",
        "\n",
        "# Model type\n",
        "MODEL_TYPE = \"skipgram\" # or \"cbow\"\n",
        "\n",
        "# Embedding (vector) size\n",
        "EMBEDDING_SIZE = 100\n",
        "\n",
        "# Save path\n",
        "SAVE_PATH = \"results\"\n"
      ],
      "metadata": {
        "id": "Pq-BcLeUFBXZ",
        "execution": {
          "iopub.status.busy": "2023-04-25T07:05:36.644098Z",
          "iopub.execute_input": "2023-04-25T07:05:36.645089Z",
          "iopub.status.idle": "2023-04-25T07:05:36.650267Z",
          "shell.execute_reply.started": "2023-04-25T07:05:36.645044Z",
          "shell.execute_reply": "2023-04-25T07:05:36.649104Z"
        },
        "trusted": true
      },
      "execution_count": null,
      "outputs": []
    },
    {
      "cell_type": "code",
      "source": [
        "# Set path for dataset\n",
        "TEXT_PATH = os.path.join(\"dataset\", \"text8.txt\")\n",
        "\n",
        "# Set device\n",
        "DEVICE = torch.device(\"cuda\" if torch.cuda.is_available() else \"cpu\")"
      ],
      "metadata": {
        "id": "iE2k7weZyiYu",
        "execution": {
          "iopub.status.busy": "2023-04-25T06:26:44.181592Z",
          "iopub.execute_input": "2023-04-25T06:26:44.181977Z",
          "iopub.status.idle": "2023-04-25T06:26:44.187740Z",
          "shell.execute_reply.started": "2023-04-25T06:26:44.181944Z",
          "shell.execute_reply": "2023-04-25T06:26:44.186379Z"
        },
        "trusted": true
      },
      "execution_count": null,
      "outputs": []
    },
    {
      "cell_type": "code",
      "source": [
        "# Read input text, tokenize and build vocabulary\n",
        "with open(TEXT_PATH, \"r\") as f:\n",
        "    raw_txt = f.read()\n",
        "\n",
        "vocab, tokens = tokenize(inp=raw_txt, vocab_size=MAX_VOCAB_SIZE, default_token=\"<unk>\")\n",
        "VOCAB_SIZE = min(MAX_VOCAB_SIZE, vocab.get_size())"
      ],
      "metadata": {
        "colab": {
          "base_uri": "https://localhost:8080/",
          "height": 49,
          "referenced_widgets": [
            "a2ffd9bc2f6e42b993cecab183cdc60e",
            "d3d302eb70264716a2e80cc94e2a50b0",
            "34229f8dc4f84761816e96b25eb80797",
            "36fca84767324b96b3c2f5662aa39844",
            "6cb0dbcf609f41068511e4ab96f545c0",
            "52b09af3083643699645445e2c5821ca",
            "01dc39a3464e4d749f2a7bf7992bba66",
            "491dd4c2998a446bb840a4f00b1d1f38",
            "869b2d5bf687435e96f38577736c0902",
            "72d3702896694f518948bf0e32bca314",
            "21066985624b44b0a4a8c040aad7863b",
            "c794084734384fbaafcea302e52beac3"
          ]
        },
        "id": "6KFKWwYGxwnm",
        "outputId": "7cd06807-7b84-4e08-f001-a766cb507087",
        "execution": {
          "iopub.status.busy": "2023-04-25T06:26:52.364378Z",
          "iopub.execute_input": "2023-04-25T06:26:52.365363Z",
          "iopub.status.idle": "2023-04-25T06:33:27.583377Z",
          "shell.execute_reply.started": "2023-04-25T06:26:52.365304Z",
          "shell.execute_reply": "2023-04-25T06:33:27.582247Z"
        },
        "trusted": true
      },
      "execution_count": null,
      "outputs": [
        {
          "output_type": "display_data",
          "data": {
            "text/plain": "  0%|          | 0/12375405 [00:00<?, ?it/s]",
            "application/vnd.jupyter.widget-view+json": {
              "version_major": 2,
              "version_minor": 0,
              "model_id": "c794084734384fbaafcea302e52beac3"
            }
          },
          "metadata": {}
        }
      ]
    },
    {
      "cell_type": "code",
      "source": [
        "# Dataloaders\n",
        "train_dataloader = get_dataloader(\n",
        "    tokens=tokens,\n",
        "    model_type=MODEL_TYPE,\n",
        "    loader_type=\"train\",\n",
        "    vocab=vocab\n",
        ")\n",
        "val_dataloader = get_dataloader(\n",
        "    tokens=tokens,\n",
        "    model_type=MODEL_TYPE,\n",
        "    loader_type=\"val\",\n",
        "    vocab=vocab\n",
        ")"
      ],
      "metadata": {
        "id": "MJc8PH6E17Si",
        "execution": {
          "iopub.status.busy": "2023-04-25T06:33:34.971928Z",
          "iopub.execute_input": "2023-04-25T06:33:34.972550Z",
          "iopub.status.idle": "2023-04-25T06:33:37.635093Z",
          "shell.execute_reply.started": "2023-04-25T06:33:34.972509Z",
          "shell.execute_reply": "2023-04-25T06:33:37.633999Z"
        },
        "trusted": true
      },
      "execution_count": null,
      "outputs": []
    },
    {
      "cell_type": "code",
      "source": [
        "if MODEL_TYPE == \"cbow\":\n",
        "    model = CBOWModel(vocab_size=VOCAB_SIZE, embedding_size=EMBEDDING_SIZE)\n",
        "elif MODEL_TYPE == \"skipgram\":\n",
        "    model = SkipGramModel(vocab_size=VOCAB_SIZE, embedding_size=EMBEDDING_SIZE)\n",
        "else:\n",
        "    raise NotImplementedError\n",
        "\n",
        "# Loss function\n",
        "criterion = nn.CrossEntropyLoss()\n",
        "# Optimizer\n",
        "optimizer = torch.optim.AdamW(model.parameters(), lr=0.001)\n",
        "\n",
        "metric_monitor = MetricMonitor(\n",
        "    epochs=EPOCHS\n",
        ")\n",
        "\n",
        "trainer = Trainer(\n",
        "    model=model,\n",
        "    train_dataloader=train_dataloader,\n",
        "    val_dataloader=val_dataloader,\n",
        "    criterion=criterion,\n",
        "    optimizer=optimizer,\n",
        "    device=DEVICE,\n",
        "    metric_monitor=metric_monitor,\n",
        "    epochs=EPOCHS\n",
        ")\n",
        "\n",
        "trainer.train()"
      ],
      "metadata": {
        "colab": {
          "base_uri": "https://localhost:8080/",
          "height": 49,
          "referenced_widgets": [
            "ea8e51f756e1418a90acc9ea6b62cf42",
            "0d77256bd4474bc69fe0cbd536d75164",
            "785cb55699744aa68a88e9d05ae41e33",
            "aabd7b74678c4ddd8cf9e45fad3943c8",
            "939654f595e64e39bf42663460870d06",
            "7f1f4134027b4986826a1ff22730ca6d",
            "3a7d09c2fbe84cfbbad0a4ad87a02aeb",
            "ba26e3279cf34770bebf4a4d206d306e",
            "8688728dafd1445398dd8c39f6153090",
            "5be47cf1755f4502ae9c540867b6c7e8",
            "f5432991a85748778359c7d90177378f",
            "13027f19c01347c9880ac474d06e9f45",
            "0428f1f7182b4ab1ab60c601a548dcf8",
            "dbb61974615e4ddf9ce0b471f01e0d9c",
            "f69a782a82474dcc95c5f18a2a8da450",
            "f3e59f3ec468447392ee65cc3f853e05",
            "495e0814846f4a17a7efec395aa2bb21",
            "ff106b2f733c4f5d87867284356d7346",
            "b3fdf242423d4c4886b8e7b10c63b847",
            "ba35aa8514b8459d8f44f90c43fef757",
            "dfabf57455084e1cac751bbe6d3dea41"
          ]
        },
        "id": "wjUR8FXB3Jv0",
        "outputId": "19edf822-672a-47a1-b6b5-c2862a68d05f",
        "execution": {
          "iopub.status.busy": "2023-04-25T06:33:47.522508Z",
          "iopub.execute_input": "2023-04-25T06:33:47.523255Z",
          "iopub.status.idle": "2023-04-25T06:59:34.927091Z",
          "shell.execute_reply.started": "2023-04-25T06:33:47.523212Z",
          "shell.execute_reply": "2023-04-25T06:59:34.926030Z"
        },
        "trusted": true
      },
      "execution_count": null,
      "outputs": [
        {
          "output_type": "display_data",
          "data": {
            "text/plain": "  0%|          | 0/12376 [00:00<?, ?it/s]",
            "application/vnd.jupyter.widget-view+json": {
              "version_major": 2,
              "version_minor": 0,
              "model_id": "13027f19c01347c9880ac474d06e9f45"
            }
          },
          "metadata": {}
        },
        {
          "output_type": "display_data",
          "data": {
            "text/plain": "  0%|          | 0/3094 [00:00<?, ?it/s]",
            "application/vnd.jupyter.widget-view+json": {
              "version_major": 2,
              "version_minor": 0,
              "model_id": "0428f1f7182b4ab1ab60c601a548dcf8"
            }
          },
          "metadata": {}
        },
        {
          "output_type": "display_data",
          "data": {
            "text/plain": "  0%|          | 0/12376 [00:00<?, ?it/s]",
            "application/vnd.jupyter.widget-view+json": {
              "version_major": 2,
              "version_minor": 0,
              "model_id": "dbb61974615e4ddf9ce0b471f01e0d9c"
            }
          },
          "metadata": {}
        },
        {
          "output_type": "display_data",
          "data": {
            "text/plain": "  0%|          | 0/3094 [00:00<?, ?it/s]",
            "application/vnd.jupyter.widget-view+json": {
              "version_major": 2,
              "version_minor": 0,
              "model_id": "f69a782a82474dcc95c5f18a2a8da450"
            }
          },
          "metadata": {}
        },
        {
          "output_type": "display_data",
          "data": {
            "text/plain": "  0%|          | 0/12376 [00:00<?, ?it/s]",
            "application/vnd.jupyter.widget-view+json": {
              "version_major": 2,
              "version_minor": 0,
              "model_id": "f3e59f3ec468447392ee65cc3f853e05"
            }
          },
          "metadata": {}
        },
        {
          "output_type": "display_data",
          "data": {
            "text/plain": "  0%|          | 0/3094 [00:00<?, ?it/s]",
            "application/vnd.jupyter.widget-view+json": {
              "version_major": 2,
              "version_minor": 0,
              "model_id": "495e0814846f4a17a7efec395aa2bb21"
            }
          },
          "metadata": {}
        },
        {
          "output_type": "display_data",
          "data": {
            "text/plain": "  0%|          | 0/12376 [00:00<?, ?it/s]",
            "application/vnd.jupyter.widget-view+json": {
              "version_major": 2,
              "version_minor": 0,
              "model_id": "ff106b2f733c4f5d87867284356d7346"
            }
          },
          "metadata": {}
        },
        {
          "output_type": "display_data",
          "data": {
            "text/plain": "  0%|          | 0/3094 [00:00<?, ?it/s]",
            "application/vnd.jupyter.widget-view+json": {
              "version_major": 2,
              "version_minor": 0,
              "model_id": "b3fdf242423d4c4886b8e7b10c63b847"
            }
          },
          "metadata": {}
        },
        {
          "output_type": "display_data",
          "data": {
            "text/plain": "  0%|          | 0/12376 [00:00<?, ?it/s]",
            "application/vnd.jupyter.widget-view+json": {
              "version_major": 2,
              "version_minor": 0,
              "model_id": "ba35aa8514b8459d8f44f90c43fef757"
            }
          },
          "metadata": {}
        },
        {
          "output_type": "display_data",
          "data": {
            "text/plain": "  0%|          | 0/3094 [00:00<?, ?it/s]",
            "application/vnd.jupyter.widget-view+json": {
              "version_major": 2,
              "version_minor": 0,
              "model_id": "dfabf57455084e1cac751bbe6d3dea41"
            }
          },
          "metadata": {}
        }
      ]
    },
    {
      "cell_type": "markdown",
      "source": [
        "# Save results"
      ],
      "metadata": {
        "id": "txQgQGbt-h_w"
      }
    },
    {
      "cell_type": "code",
      "source": [
        "import json"
      ],
      "metadata": {
        "id": "Ruccn8xn_-Hh",
        "execution": {
          "iopub.status.busy": "2023-04-25T07:01:31.192247Z",
          "iopub.execute_input": "2023-04-25T07:01:31.193008Z",
          "iopub.status.idle": "2023-04-25T07:01:31.198021Z",
          "shell.execute_reply.started": "2023-04-25T07:01:31.192963Z",
          "shell.execute_reply": "2023-04-25T07:01:31.196731Z"
        },
        "trusted": true
      },
      "execution_count": null,
      "outputs": []
    },
    {
      "cell_type": "code",
      "source": [
        "# Save vocabulary\n",
        "vocab_path = os.path.join(SAVE_PATH, MODEL_TYPE, \"vocab.json\")\n",
        "with open(vocab_path, \"w\") as f:\n",
        "  json.dump(vocab.get_stoi(), f)"
      ],
      "metadata": {
        "id": "rd7WCGqp_r3k",
        "execution": {
          "iopub.status.busy": "2023-04-25T07:05:53.844204Z",
          "iopub.execute_input": "2023-04-25T07:05:53.845288Z",
          "iopub.status.idle": "2023-04-25T07:05:53.863277Z",
          "shell.execute_reply.started": "2023-04-25T07:05:53.845235Z",
          "shell.execute_reply": "2023-04-25T07:05:53.862118Z"
        },
        "trusted": true
      },
      "execution_count": null,
      "outputs": []
    },
    {
      "cell_type": "code",
      "source": [
        "# Save tokens\n",
        "tokens_path = os.path.join(SAVE_PATH, MODEL_TYPE, \"tokens.txt\")\n",
        "with open(tokens_path, \"w\") as f:\n",
        "  f.write(\" \".join(tokens))"
      ],
      "metadata": {
        "id": "xhJMcMIBArhs",
        "execution": {
          "iopub.status.busy": "2023-04-25T07:13:39.256700Z",
          "iopub.execute_input": "2023-04-25T07:13:39.257426Z",
          "iopub.status.idle": "2023-04-25T07:13:39.746645Z",
          "shell.execute_reply.started": "2023-04-25T07:13:39.257387Z",
          "shell.execute_reply": "2023-04-25T07:13:39.745623Z"
        },
        "trusted": true
      },
      "execution_count": null,
      "outputs": []
    },
    {
      "cell_type": "code",
      "source": [
        "# Save metrics\n",
        "metrics_path = os.path.join(SAVE_PATH, MODEL_TYPE, \"metrics.json\")\n",
        "with open(metrics_path, \"w\") as f:\n",
        "  json.dump(metric_monitor.metrics, f)"
      ],
      "metadata": {
        "id": "8tKN3keeBmmQ",
        "execution": {
          "iopub.status.busy": "2023-04-25T07:13:41.823544Z",
          "iopub.execute_input": "2023-04-25T07:13:41.823953Z",
          "iopub.status.idle": "2023-04-25T07:13:41.962967Z",
          "shell.execute_reply.started": "2023-04-25T07:13:41.823921Z",
          "shell.execute_reply": "2023-04-25T07:13:41.961958Z"
        },
        "trusted": true
      },
      "execution_count": null,
      "outputs": []
    },
    {
      "cell_type": "code",
      "source": [
        "# Save model\n",
        "model_path = os.path.join(SAVE_PATH, MODEL_TYPE, \"model.pth\")\n",
        "torch.save(model, model_path)"
      ],
      "metadata": {
        "id": "ZQwHOwVF-kMd",
        "execution": {
          "iopub.status.busy": "2023-04-25T07:13:44.921828Z",
          "iopub.execute_input": "2023-04-25T07:13:44.922994Z",
          "iopub.status.idle": "2023-04-25T07:13:44.936739Z",
          "shell.execute_reply.started": "2023-04-25T07:13:44.922935Z",
          "shell.execute_reply": "2023-04-25T07:13:44.935465Z"
        },
        "trusted": true
      },
      "execution_count": null,
      "outputs": []
    },
    {
      "cell_type": "code",
      "source": [
        "# Save model's weights\n",
        "model_w_path = os.path.join(SAVE_PATH, MODEL_TYPE, \"model_state.pth\")\n",
        "torch.save(model.state_dict(), model_w_path)"
      ],
      "metadata": {
        "id": "vYRwAj6F-49B",
        "execution": {
          "iopub.status.busy": "2023-04-25T07:13:46.238463Z",
          "iopub.execute_input": "2023-04-25T07:13:46.239061Z",
          "iopub.status.idle": "2023-04-25T07:13:46.252699Z",
          "shell.execute_reply.started": "2023-04-25T07:13:46.239022Z",
          "shell.execute_reply": "2023-04-25T07:13:46.251483Z"
        },
        "trusted": true
      },
      "execution_count": null,
      "outputs": []
    }
  ]
}