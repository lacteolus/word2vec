{
  "metadata": {
    "colab": {
      "provenance": []
    },
    "kernelspec": {
      "name": "python3",
      "display_name": "Python 3",
      "language": "python"
    },
    "language_info": {
      "name": "python",
      "version": "3.7.12",
      "mimetype": "text/x-python",
      "codemirror_mode": {
        "name": "ipython",
        "version": 3
      },
      "pygments_lexer": "ipython3",
      "nbconvert_exporter": "python",
      "file_extension": ".py"
    },
    "gpuClass": "standard",
    "widgets": {
      "application/vnd.jupyter.widget-state+json": {
        "ce21a1c1a4ef4720b58213c07eec68bb": {
          "model_module": "@jupyter-widgets/controls",
          "model_name": "HBoxModel",
          "model_module_version": "1.5.0",
          "state": {
            "_dom_classes": [],
            "_model_module": "@jupyter-widgets/controls",
            "_model_module_version": "1.5.0",
            "_model_name": "HBoxModel",
            "_view_count": null,
            "_view_module": "@jupyter-widgets/controls",
            "_view_module_version": "1.5.0",
            "_view_name": "HBoxView",
            "box_style": "",
            "children": [
              "IPY_MODEL_318fa04160bc49c0ac00fa104562d3e9",
              "IPY_MODEL_aa8ad4c666b745d1900198982417acdd",
              "IPY_MODEL_f948c8cddec74464bb86600494cbea3f"
            ],
            "layout": "IPY_MODEL_6f71c04414184512a4767184970a1132"
          }
        },
        "318fa04160bc49c0ac00fa104562d3e9": {
          "model_module": "@jupyter-widgets/controls",
          "model_name": "HTMLModel",
          "model_module_version": "1.5.0",
          "state": {
            "_dom_classes": [],
            "_model_module": "@jupyter-widgets/controls",
            "_model_module_version": "1.5.0",
            "_model_name": "HTMLModel",
            "_view_count": null,
            "_view_module": "@jupyter-widgets/controls",
            "_view_module_version": "1.5.0",
            "_view_name": "HTMLView",
            "description": "",
            "description_tooltip": null,
            "layout": "IPY_MODEL_341b1b0a6d2d431994ce73b701b0dac8",
            "placeholder": "​",
            "style": "IPY_MODEL_5c7c4c7a5f1b4a6996de31faca47e602",
            "value": "100%"
          }
        },
        "aa8ad4c666b745d1900198982417acdd": {
          "model_module": "@jupyter-widgets/controls",
          "model_name": "FloatProgressModel",
          "model_module_version": "1.5.0",
          "state": {
            "_dom_classes": [],
            "_model_module": "@jupyter-widgets/controls",
            "_model_module_version": "1.5.0",
            "_model_name": "FloatProgressModel",
            "_view_count": null,
            "_view_module": "@jupyter-widgets/controls",
            "_view_module_version": "1.5.0",
            "_view_name": "ProgressView",
            "bar_style": "success",
            "description": "",
            "description_tooltip": null,
            "layout": "IPY_MODEL_d57333ac43e24f83909a4080c3591e1b",
            "max": 12375405,
            "min": 0,
            "orientation": "horizontal",
            "style": "IPY_MODEL_ad03dea965114ed7ae9f63502215e596",
            "value": 12375405
          }
        },
        "f948c8cddec74464bb86600494cbea3f": {
          "model_module": "@jupyter-widgets/controls",
          "model_name": "HTMLModel",
          "model_module_version": "1.5.0",
          "state": {
            "_dom_classes": [],
            "_model_module": "@jupyter-widgets/controls",
            "_model_module_version": "1.5.0",
            "_model_name": "HTMLModel",
            "_view_count": null,
            "_view_module": "@jupyter-widgets/controls",
            "_view_module_version": "1.5.0",
            "_view_name": "HTMLView",
            "description": "",
            "description_tooltip": null,
            "layout": "IPY_MODEL_74ba74ca8fab4242a7b2e94f5617f6e1",
            "placeholder": "​",
            "style": "IPY_MODEL_a6887253c4d148ffaa9412599a530110",
            "value": " 12375405/12375405 [05:03&lt;00:00, 43641.45it/s]"
          }
        },
        "6f71c04414184512a4767184970a1132": {
          "model_module": "@jupyter-widgets/base",
          "model_name": "LayoutModel",
          "model_module_version": "1.2.0",
          "state": {
            "_model_module": "@jupyter-widgets/base",
            "_model_module_version": "1.2.0",
            "_model_name": "LayoutModel",
            "_view_count": null,
            "_view_module": "@jupyter-widgets/base",
            "_view_module_version": "1.2.0",
            "_view_name": "LayoutView",
            "align_content": null,
            "align_items": null,
            "align_self": null,
            "border": null,
            "bottom": null,
            "display": null,
            "flex": null,
            "flex_flow": null,
            "grid_area": null,
            "grid_auto_columns": null,
            "grid_auto_flow": null,
            "grid_auto_rows": null,
            "grid_column": null,
            "grid_gap": null,
            "grid_row": null,
            "grid_template_areas": null,
            "grid_template_columns": null,
            "grid_template_rows": null,
            "height": null,
            "justify_content": null,
            "justify_items": null,
            "left": null,
            "margin": null,
            "max_height": null,
            "max_width": null,
            "min_height": null,
            "min_width": null,
            "object_fit": null,
            "object_position": null,
            "order": null,
            "overflow": null,
            "overflow_x": null,
            "overflow_y": null,
            "padding": null,
            "right": null,
            "top": null,
            "visibility": null,
            "width": null
          }
        },
        "341b1b0a6d2d431994ce73b701b0dac8": {
          "model_module": "@jupyter-widgets/base",
          "model_name": "LayoutModel",
          "model_module_version": "1.2.0",
          "state": {
            "_model_module": "@jupyter-widgets/base",
            "_model_module_version": "1.2.0",
            "_model_name": "LayoutModel",
            "_view_count": null,
            "_view_module": "@jupyter-widgets/base",
            "_view_module_version": "1.2.0",
            "_view_name": "LayoutView",
            "align_content": null,
            "align_items": null,
            "align_self": null,
            "border": null,
            "bottom": null,
            "display": null,
            "flex": null,
            "flex_flow": null,
            "grid_area": null,
            "grid_auto_columns": null,
            "grid_auto_flow": null,
            "grid_auto_rows": null,
            "grid_column": null,
            "grid_gap": null,
            "grid_row": null,
            "grid_template_areas": null,
            "grid_template_columns": null,
            "grid_template_rows": null,
            "height": null,
            "justify_content": null,
            "justify_items": null,
            "left": null,
            "margin": null,
            "max_height": null,
            "max_width": null,
            "min_height": null,
            "min_width": null,
            "object_fit": null,
            "object_position": null,
            "order": null,
            "overflow": null,
            "overflow_x": null,
            "overflow_y": null,
            "padding": null,
            "right": null,
            "top": null,
            "visibility": null,
            "width": null
          }
        },
        "5c7c4c7a5f1b4a6996de31faca47e602": {
          "model_module": "@jupyter-widgets/controls",
          "model_name": "DescriptionStyleModel",
          "model_module_version": "1.5.0",
          "state": {
            "_model_module": "@jupyter-widgets/controls",
            "_model_module_version": "1.5.0",
            "_model_name": "DescriptionStyleModel",
            "_view_count": null,
            "_view_module": "@jupyter-widgets/base",
            "_view_module_version": "1.2.0",
            "_view_name": "StyleView",
            "description_width": ""
          }
        },
        "d57333ac43e24f83909a4080c3591e1b": {
          "model_module": "@jupyter-widgets/base",
          "model_name": "LayoutModel",
          "model_module_version": "1.2.0",
          "state": {
            "_model_module": "@jupyter-widgets/base",
            "_model_module_version": "1.2.0",
            "_model_name": "LayoutModel",
            "_view_count": null,
            "_view_module": "@jupyter-widgets/base",
            "_view_module_version": "1.2.0",
            "_view_name": "LayoutView",
            "align_content": null,
            "align_items": null,
            "align_self": null,
            "border": null,
            "bottom": null,
            "display": null,
            "flex": null,
            "flex_flow": null,
            "grid_area": null,
            "grid_auto_columns": null,
            "grid_auto_flow": null,
            "grid_auto_rows": null,
            "grid_column": null,
            "grid_gap": null,
            "grid_row": null,
            "grid_template_areas": null,
            "grid_template_columns": null,
            "grid_template_rows": null,
            "height": null,
            "justify_content": null,
            "justify_items": null,
            "left": null,
            "margin": null,
            "max_height": null,
            "max_width": null,
            "min_height": null,
            "min_width": null,
            "object_fit": null,
            "object_position": null,
            "order": null,
            "overflow": null,
            "overflow_x": null,
            "overflow_y": null,
            "padding": null,
            "right": null,
            "top": null,
            "visibility": null,
            "width": null
          }
        },
        "ad03dea965114ed7ae9f63502215e596": {
          "model_module": "@jupyter-widgets/controls",
          "model_name": "ProgressStyleModel",
          "model_module_version": "1.5.0",
          "state": {
            "_model_module": "@jupyter-widgets/controls",
            "_model_module_version": "1.5.0",
            "_model_name": "ProgressStyleModel",
            "_view_count": null,
            "_view_module": "@jupyter-widgets/base",
            "_view_module_version": "1.2.0",
            "_view_name": "StyleView",
            "bar_color": null,
            "description_width": ""
          }
        },
        "74ba74ca8fab4242a7b2e94f5617f6e1": {
          "model_module": "@jupyter-widgets/base",
          "model_name": "LayoutModel",
          "model_module_version": "1.2.0",
          "state": {
            "_model_module": "@jupyter-widgets/base",
            "_model_module_version": "1.2.0",
            "_model_name": "LayoutModel",
            "_view_count": null,
            "_view_module": "@jupyter-widgets/base",
            "_view_module_version": "1.2.0",
            "_view_name": "LayoutView",
            "align_content": null,
            "align_items": null,
            "align_self": null,
            "border": null,
            "bottom": null,
            "display": null,
            "flex": null,
            "flex_flow": null,
            "grid_area": null,
            "grid_auto_columns": null,
            "grid_auto_flow": null,
            "grid_auto_rows": null,
            "grid_column": null,
            "grid_gap": null,
            "grid_row": null,
            "grid_template_areas": null,
            "grid_template_columns": null,
            "grid_template_rows": null,
            "height": null,
            "justify_content": null,
            "justify_items": null,
            "left": null,
            "margin": null,
            "max_height": null,
            "max_width": null,
            "min_height": null,
            "min_width": null,
            "object_fit": null,
            "object_position": null,
            "order": null,
            "overflow": null,
            "overflow_x": null,
            "overflow_y": null,
            "padding": null,
            "right": null,
            "top": null,
            "visibility": null,
            "width": null
          }
        },
        "a6887253c4d148ffaa9412599a530110": {
          "model_module": "@jupyter-widgets/controls",
          "model_name": "DescriptionStyleModel",
          "model_module_version": "1.5.0",
          "state": {
            "_model_module": "@jupyter-widgets/controls",
            "_model_module_version": "1.5.0",
            "_model_name": "DescriptionStyleModel",
            "_view_count": null,
            "_view_module": "@jupyter-widgets/base",
            "_view_module_version": "1.2.0",
            "_view_name": "StyleView",
            "description_width": ""
          }
        }
      }
    }
  },
  "nbformat_minor": 0,
  "nbformat": 4,
  "cells": [
    {
      "cell_type": "markdown",
      "source": [
        "# Clone repository\n",
        "\n",
        "1. Clone repository from Gitlab. Repository URL - {GIT_PATH}\n",
        "2. Repository is cloned into {LOCAL_PATH} directory\n",
        "3. Branch {BRANCH} is used"
      ],
      "metadata": {
        "id": "SWj6mKowylMV"
      }
    },
    {
      "cell_type": "code",
      "source": [
        "GIT_PATH = \"https://github.com/lacteolus/word2vec.git\"\n",
        "LOCAL_PATH = \"word2vec\"\n",
        "BRANCH = \"main\""
      ],
      "metadata": {
        "id": "R8H-FAJrrLTG",
        "execution": {
          "iopub.status.busy": "2023-04-25T06:25:47.892215Z",
          "iopub.execute_input": "2023-04-25T06:25:47.892636Z",
          "iopub.status.idle": "2023-04-25T06:25:47.898589Z",
          "shell.execute_reply.started": "2023-04-25T06:25:47.892597Z",
          "shell.execute_reply": "2023-04-25T06:25:47.897503Z"
        },
        "trusted": true
      },
      "execution_count": 11,
      "outputs": []
    },
    {
      "cell_type": "code",
      "source": [
        "import os"
      ],
      "metadata": {
        "id": "E4vDlD5MQuWy",
        "execution": {
          "iopub.status.busy": "2023-04-25T06:25:50.463431Z",
          "iopub.execute_input": "2023-04-25T06:25:50.463802Z",
          "iopub.status.idle": "2023-04-25T06:25:50.468462Z",
          "shell.execute_reply.started": "2023-04-25T06:25:50.463770Z",
          "shell.execute_reply": "2023-04-25T06:25:50.467353Z"
        },
        "trusted": true
      },
      "execution_count": 12,
      "outputs": []
    },
    {
      "cell_type": "code",
      "source": [
        "cmd_string = f'git clone {GIT_PATH} {LOCAL_PATH}'\n",
        "os.system(cmd_string)"
      ],
      "metadata": {
        "colab": {
          "base_uri": "https://localhost:8080/"
        },
        "id": "CwX3R0K6rrZ-",
        "outputId": "90b5a040-a614-405a-e962-19f4e51589e4",
        "execution": {
          "iopub.status.busy": "2023-04-25T06:25:52.628474Z",
          "iopub.execute_input": "2023-04-25T06:25:52.629474Z",
          "iopub.status.idle": "2023-04-25T06:25:55.510242Z",
          "shell.execute_reply.started": "2023-04-25T06:25:52.629425Z",
          "shell.execute_reply": "2023-04-25T06:25:55.509251Z"
        },
        "trusted": true
      },
      "execution_count": 13,
      "outputs": [
        {
          "output_type": "execute_result",
          "data": {
            "text/plain": [
              "0"
            ]
          },
          "metadata": {},
          "execution_count": 13
        }
      ]
    },
    {
      "cell_type": "code",
      "source": [
        "!ls"
      ],
      "metadata": {
        "execution": {
          "iopub.status.busy": "2023-04-25T06:25:58.289460Z",
          "iopub.execute_input": "2023-04-25T06:25:58.289958Z",
          "iopub.status.idle": "2023-04-25T06:25:59.242647Z",
          "shell.execute_reply.started": "2023-04-25T06:25:58.289913Z",
          "shell.execute_reply": "2023-04-25T06:25:59.241168Z"
        },
        "trusted": true,
        "id": "3LvOWH7oqskC",
        "outputId": "7ae6b085-5a02-4031-9cfb-204f122828ee",
        "colab": {
          "base_uri": "https://localhost:8080/"
        }
      },
      "execution_count": 14,
      "outputs": [
        {
          "output_type": "stream",
          "name": "stdout",
          "text": [
            "dataset  notebooks  requirements.txt  src\n",
            "main.py  README.md  results\t      word2vec\n"
          ]
        }
      ]
    },
    {
      "cell_type": "code",
      "source": [
        "%cd {LOCAL_PATH}"
      ],
      "metadata": {
        "colab": {
          "base_uri": "https://localhost:8080/"
        },
        "id": "UjDpzuo9wzt6",
        "outputId": "3ee3e97e-f0ff-40d3-beac-86709f3aa97e",
        "execution": {
          "iopub.status.busy": "2023-04-25T06:26:06.275979Z",
          "iopub.execute_input": "2023-04-25T06:26:06.276409Z",
          "iopub.status.idle": "2023-04-25T06:26:06.285531Z",
          "shell.execute_reply.started": "2023-04-25T06:26:06.276369Z",
          "shell.execute_reply": "2023-04-25T06:26:06.284223Z"
        },
        "trusted": true
      },
      "execution_count": 15,
      "outputs": [
        {
          "output_type": "stream",
          "name": "stdout",
          "text": [
            "/content/word2vec/word2vec\n"
          ]
        }
      ]
    },
    {
      "cell_type": "code",
      "source": [
        "!git checkout {BRANCH}"
      ],
      "metadata": {
        "colab": {
          "base_uri": "https://localhost:8080/"
        },
        "id": "rNmGAwhUxih3",
        "outputId": "5234eb55-c3c3-42ed-f42a-13cc0d16bde1",
        "execution": {
          "iopub.status.busy": "2023-04-25T06:26:10.402524Z",
          "iopub.execute_input": "2023-04-25T06:26:10.403203Z",
          "iopub.status.idle": "2023-04-25T06:26:11.969935Z",
          "shell.execute_reply.started": "2023-04-25T06:26:10.403143Z",
          "shell.execute_reply": "2023-04-25T06:26:11.968762Z"
        },
        "trusted": true
      },
      "execution_count": 16,
      "outputs": [
        {
          "output_type": "stream",
          "name": "stdout",
          "text": [
            "Already on 'main'\n",
            "Your branch is up to date with 'origin/main'.\n"
          ]
        }
      ]
    },
    {
      "cell_type": "code",
      "source": [
        "! git pull"
      ],
      "metadata": {
        "colab": {
          "base_uri": "https://localhost:8080/"
        },
        "id": "M8SmKaZMz3QT",
        "outputId": "602adb1b-d0ce-408e-9411-20a5c8aa1049",
        "execution": {
          "iopub.status.busy": "2023-04-25T06:26:14.263586Z",
          "iopub.execute_input": "2023-04-25T06:26:14.264704Z",
          "iopub.status.idle": "2023-04-25T06:26:16.723576Z",
          "shell.execute_reply.started": "2023-04-25T06:26:14.264649Z",
          "shell.execute_reply": "2023-04-25T06:26:16.722414Z"
        },
        "trusted": true
      },
      "execution_count": 17,
      "outputs": [
        {
          "output_type": "stream",
          "name": "stdout",
          "text": [
            "Already up to date.\n"
          ]
        }
      ]
    },
    {
      "cell_type": "markdown",
      "source": [
        "# Train model"
      ],
      "metadata": {
        "id": "N7wkYn0dy4gt"
      }
    },
    {
      "cell_type": "code",
      "source": [
        "import os\n",
        "import torch\n",
        "import torch.nn as nn\n",
        "import numpy as np\n",
        "from collections import Counter\n",
        "from src.dataloader import get_dataloader, tokenize\n",
        "from src.custom_word2vec import CBOWModel, SkipGramModel\n",
        "from src.vocab import Vocab\n",
        "from src.trainer import Trainer\n",
        "from src.metric_monitor import MetricMonitor"
      ],
      "metadata": {
        "id": "PQb_vzA9ykI-",
        "execution": {
          "iopub.status.busy": "2023-04-25T06:26:20.003767Z",
          "iopub.execute_input": "2023-04-25T06:26:20.005162Z",
          "iopub.status.idle": "2023-04-25T06:26:22.740724Z",
          "shell.execute_reply.started": "2023-04-25T06:26:20.005113Z",
          "shell.execute_reply": "2023-04-25T06:26:22.739715Z"
        },
        "trusted": true
      },
      "execution_count": 22,
      "outputs": []
    },
    {
      "cell_type": "code",
      "source": [
        "# CAN BE MODIFIED IF NEEDED\n",
        "# Max vocabulary size\n",
        "MAX_VOCAB_SIZE = 5000\n",
        "\n",
        "# Number of epochs\n",
        "EPOCHS = 5\n",
        "\n",
        "# Model type\n",
        "MODEL_TYPE = \"skipgram\" # or \"cbow\"\n",
        "\n",
        "# Embedding (vector) size\n",
        "EMBEDDING_SIZE = 100\n",
        "\n",
        "# Save path\n",
        "SAVE_PATH = \"results\"\n"
      ],
      "metadata": {
        "id": "Pq-BcLeUFBXZ",
        "execution": {
          "iopub.status.busy": "2023-04-25T07:05:36.644098Z",
          "iopub.execute_input": "2023-04-25T07:05:36.645089Z",
          "iopub.status.idle": "2023-04-25T07:05:36.650267Z",
          "shell.execute_reply.started": "2023-04-25T07:05:36.645044Z",
          "shell.execute_reply": "2023-04-25T07:05:36.649104Z"
        },
        "trusted": true
      },
      "execution_count": 23,
      "outputs": []
    },
    {
      "cell_type": "code",
      "source": [
        "# Set path for dataset\n",
        "TEXT_PATH = os.path.join(\"dataset\", \"text8.txt\")\n",
        "\n",
        "# Set device\n",
        "DEVICE = torch.device(\"cuda\" if torch.cuda.is_available() else \"cpu\")"
      ],
      "metadata": {
        "id": "iE2k7weZyiYu",
        "execution": {
          "iopub.status.busy": "2023-04-25T06:26:44.181592Z",
          "iopub.execute_input": "2023-04-25T06:26:44.181977Z",
          "iopub.status.idle": "2023-04-25T06:26:44.187740Z",
          "shell.execute_reply.started": "2023-04-25T06:26:44.181944Z",
          "shell.execute_reply": "2023-04-25T06:26:44.186379Z"
        },
        "trusted": true
      },
      "execution_count": 24,
      "outputs": []
    },
    {
      "cell_type": "code",
      "source": [
        "# Read input text, tokenize and build vocabulary\n",
        "with open(TEXT_PATH, \"r\") as f:\n",
        "    raw_txt = f.read()\n",
        "\n",
        "vocab, tokens = tokenize(inp=raw_txt, vocab_size=MAX_VOCAB_SIZE, default_token=\"<unk>\")\n",
        "VOCAB_SIZE = min(MAX_VOCAB_SIZE, vocab.get_size())"
      ],
      "metadata": {
        "colab": {
          "base_uri": "https://localhost:8080/",
          "height": 49,
          "referenced_widgets": [
            "ce21a1c1a4ef4720b58213c07eec68bb",
            "318fa04160bc49c0ac00fa104562d3e9",
            "aa8ad4c666b745d1900198982417acdd",
            "f948c8cddec74464bb86600494cbea3f",
            "6f71c04414184512a4767184970a1132",
            "341b1b0a6d2d431994ce73b701b0dac8",
            "5c7c4c7a5f1b4a6996de31faca47e602",
            "d57333ac43e24f83909a4080c3591e1b",
            "ad03dea965114ed7ae9f63502215e596",
            "74ba74ca8fab4242a7b2e94f5617f6e1",
            "a6887253c4d148ffaa9412599a530110"
          ]
        },
        "id": "6KFKWwYGxwnm",
        "outputId": "64a8cc15-1b1a-4a75-8b16-c7c1e62c2fba",
        "execution": {
          "iopub.status.busy": "2023-04-25T06:26:52.364378Z",
          "iopub.execute_input": "2023-04-25T06:26:52.365363Z",
          "iopub.status.idle": "2023-04-25T06:33:27.583377Z",
          "shell.execute_reply.started": "2023-04-25T06:26:52.365304Z",
          "shell.execute_reply": "2023-04-25T06:33:27.582247Z"
        },
        "trusted": true
      },
      "execution_count": 25,
      "outputs": [
        {
          "output_type": "display_data",
          "data": {
            "text/plain": [
              "  0%|          | 0/12375405 [00:00<?, ?it/s]"
            ],
            "application/vnd.jupyter.widget-view+json": {
              "version_major": 2,
              "version_minor": 0,
              "model_id": "ce21a1c1a4ef4720b58213c07eec68bb"
            }
          },
          "metadata": {}
        }
      ]
    },
    {
      "cell_type": "code",
      "source": [
        "# Dataloaders\n",
        "train_dataloader = get_dataloader(\n",
        "    tokens=tokens,\n",
        "    model_type=MODEL_TYPE,\n",
        "    loader_type=\"train\",\n",
        "    vocab=vocab\n",
        ")\n",
        "val_dataloader = get_dataloader(\n",
        "    tokens=tokens,\n",
        "    model_type=MODEL_TYPE,\n",
        "    loader_type=\"val\",\n",
        "    vocab=vocab\n",
        ")"
      ],
      "metadata": {
        "id": "MJc8PH6E17Si",
        "execution": {
          "iopub.status.busy": "2023-04-25T06:33:34.971928Z",
          "iopub.execute_input": "2023-04-25T06:33:34.972550Z",
          "iopub.status.idle": "2023-04-25T06:33:37.635093Z",
          "shell.execute_reply.started": "2023-04-25T06:33:34.972509Z",
          "shell.execute_reply": "2023-04-25T06:33:37.633999Z"
        },
        "trusted": true
      },
      "execution_count": 26,
      "outputs": []
    },
    {
      "cell_type": "code",
      "source": [
        "if MODEL_TYPE == \"cbow\":\n",
        "    model = CBOWModel(vocab_size=VOCAB_SIZE, embedding_size=EMBEDDING_SIZE)\n",
        "elif MODEL_TYPE == \"skipgram\":\n",
        "    model = SkipGramModel(vocab_size=VOCAB_SIZE, embedding_size=EMBEDDING_SIZE)\n",
        "else:\n",
        "    raise NotImplementedError\n",
        "\n",
        "# Loss function\n",
        "criterion = nn.CrossEntropyLoss()\n",
        "# Optimizer\n",
        "optimizer = torch.optim.AdamW(model.parameters(), lr=0.001)\n",
        "\n",
        "metric_monitor = MetricMonitor(\n",
        "    epochs=EPOCHS\n",
        ")\n",
        "\n",
        "trainer = Trainer(\n",
        "    model=model,\n",
        "    train_dataloader=train_dataloader,\n",
        "    val_dataloader=val_dataloader,\n",
        "    criterion=criterion,\n",
        "    optimizer=optimizer,\n",
        "    device=DEVICE,\n",
        "    metric_monitor=metric_monitor,\n",
        "    epochs=EPOCHS\n",
        ")\n",
        "\n",
        "trainer.train()"
      ],
      "metadata": {
        "id": "wjUR8FXB3Jv0",
        "execution": {
          "iopub.status.busy": "2023-04-25T06:33:47.522508Z",
          "iopub.execute_input": "2023-04-25T06:33:47.523255Z",
          "iopub.status.idle": "2023-04-25T06:59:34.927091Z",
          "shell.execute_reply.started": "2023-04-25T06:33:47.523212Z",
          "shell.execute_reply": "2023-04-25T06:59:34.926030Z"
        },
        "trusted": true
      },
      "execution_count": null,
      "outputs": []
    },
    {
      "cell_type": "markdown",
      "source": [
        "# Save results"
      ],
      "metadata": {
        "id": "txQgQGbt-h_w"
      }
    },
    {
      "cell_type": "code",
      "source": [
        "import json"
      ],
      "metadata": {
        "id": "Ruccn8xn_-Hh",
        "execution": {
          "iopub.status.busy": "2023-04-25T07:01:31.192247Z",
          "iopub.execute_input": "2023-04-25T07:01:31.193008Z",
          "iopub.status.idle": "2023-04-25T07:01:31.198021Z",
          "shell.execute_reply.started": "2023-04-25T07:01:31.192963Z",
          "shell.execute_reply": "2023-04-25T07:01:31.196731Z"
        },
        "trusted": true
      },
      "execution_count": null,
      "outputs": []
    },
    {
      "cell_type": "code",
      "source": [
        "# Save vocabulary\n",
        "vocab_path = os.path.join(SAVE_PATH, MODEL_TYPE, \"vocab.json\")\n",
        "with open(vocab_path, \"w\") as f:\n",
        "  json.dump(vocab.get_stoi(), f)"
      ],
      "metadata": {
        "id": "rd7WCGqp_r3k",
        "execution": {
          "iopub.status.busy": "2023-04-25T07:05:53.844204Z",
          "iopub.execute_input": "2023-04-25T07:05:53.845288Z",
          "iopub.status.idle": "2023-04-25T07:05:53.863277Z",
          "shell.execute_reply.started": "2023-04-25T07:05:53.845235Z",
          "shell.execute_reply": "2023-04-25T07:05:53.862118Z"
        },
        "trusted": true
      },
      "execution_count": null,
      "outputs": []
    },
    {
      "cell_type": "code",
      "source": [
        "# Save tokens\n",
        "tokens_path = os.path.join(SAVE_PATH, MODEL_TYPE, \"tokens.txt\")\n",
        "with open(tokens_path, \"w\") as f:\n",
        "  f.write(\" \".join(tokens))"
      ],
      "metadata": {
        "id": "xhJMcMIBArhs",
        "execution": {
          "iopub.status.busy": "2023-04-25T07:13:39.256700Z",
          "iopub.execute_input": "2023-04-25T07:13:39.257426Z",
          "iopub.status.idle": "2023-04-25T07:13:39.746645Z",
          "shell.execute_reply.started": "2023-04-25T07:13:39.257387Z",
          "shell.execute_reply": "2023-04-25T07:13:39.745623Z"
        },
        "trusted": true
      },
      "execution_count": null,
      "outputs": []
    },
    {
      "cell_type": "code",
      "source": [
        "# Save metrics\n",
        "metrics_path = os.path.join(SAVE_PATH, MODEL_TYPE, \"metrics.json\")\n",
        "with open(metrics_path, \"w\") as f:\n",
        "  json.dump(metric_monitor.metrics, f)"
      ],
      "metadata": {
        "id": "8tKN3keeBmmQ",
        "execution": {
          "iopub.status.busy": "2023-04-25T07:13:41.823544Z",
          "iopub.execute_input": "2023-04-25T07:13:41.823953Z",
          "iopub.status.idle": "2023-04-25T07:13:41.962967Z",
          "shell.execute_reply.started": "2023-04-25T07:13:41.823921Z",
          "shell.execute_reply": "2023-04-25T07:13:41.961958Z"
        },
        "trusted": true
      },
      "execution_count": null,
      "outputs": []
    },
    {
      "cell_type": "code",
      "source": [
        "# Save model\n",
        "model_path = os.path.join(SAVE_PATH, MODEL_TYPE, \"model.pth\")\n",
        "torch.save(model, model_path)"
      ],
      "metadata": {
        "id": "ZQwHOwVF-kMd",
        "execution": {
          "iopub.status.busy": "2023-04-25T07:13:44.921828Z",
          "iopub.execute_input": "2023-04-25T07:13:44.922994Z",
          "iopub.status.idle": "2023-04-25T07:13:44.936739Z",
          "shell.execute_reply.started": "2023-04-25T07:13:44.922935Z",
          "shell.execute_reply": "2023-04-25T07:13:44.935465Z"
        },
        "trusted": true
      },
      "execution_count": null,
      "outputs": []
    },
    {
      "cell_type": "code",
      "source": [
        "# Save model's weights\n",
        "model_w_path = os.path.join(SAVE_PATH, MODEL_TYPE, \"model_state.pth\")\n",
        "torch.save(model.state_dict(), model_w_path)"
      ],
      "metadata": {
        "id": "vYRwAj6F-49B",
        "execution": {
          "iopub.status.busy": "2023-04-25T07:13:46.238463Z",
          "iopub.execute_input": "2023-04-25T07:13:46.239061Z",
          "iopub.status.idle": "2023-04-25T07:13:46.252699Z",
          "shell.execute_reply.started": "2023-04-25T07:13:46.239022Z",
          "shell.execute_reply": "2023-04-25T07:13:46.251483Z"
        },
        "trusted": true
      },
      "execution_count": null,
      "outputs": []
    }
  ]
}